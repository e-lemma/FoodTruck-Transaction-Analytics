{
 "cells": [
  {
   "cell_type": "markdown",
   "metadata": {},
   "source": [
    "# 🍔 Food Truck Sales Analysis 🚚"
   ]
  },
  {
   "cell_type": "markdown",
   "metadata": {},
   "source": [
    "## Imports"
   ]
  },
  {
   "cell_type": "code",
   "execution_count": 1,
   "metadata": {},
   "outputs": [],
   "source": [
    "import pandas as pd\n",
    "import altair as alt"
   ]
  },
  {
   "cell_type": "markdown",
   "metadata": {},
   "source": [
    "## Loading Data"
   ]
  },
  {
   "cell_type": "code",
   "execution_count": 2,
   "metadata": {},
   "outputs": [],
   "source": [
    "sales = pd.read_csv(\n",
    "    \"../data/historical/TRUCK_DATA_HIST_MERGED.csv\")"
   ]
  },
  {
   "cell_type": "code",
   "execution_count": 3,
   "metadata": {},
   "outputs": [
    {
     "data": {
      "text/html": [
       "<div>\n",
       "<style scoped>\n",
       "    .dataframe tbody tr th:only-of-type {\n",
       "        vertical-align: middle;\n",
       "    }\n",
       "\n",
       "    .dataframe tbody tr th {\n",
       "        vertical-align: top;\n",
       "    }\n",
       "\n",
       "    .dataframe thead th {\n",
       "        text-align: right;\n",
       "    }\n",
       "</style>\n",
       "<table border=\"1\" class=\"dataframe\">\n",
       "  <thead>\n",
       "    <tr style=\"text-align: right;\">\n",
       "      <th></th>\n",
       "      <th>truck_id</th>\n",
       "      <th>timestamp</th>\n",
       "      <th>type</th>\n",
       "      <th>total</th>\n",
       "    </tr>\n",
       "  </thead>\n",
       "  <tbody>\n",
       "    <tr>\n",
       "      <th>0</th>\n",
       "      <td>1</td>\n",
       "      <td>2024-05-05 09:07:00</td>\n",
       "      <td>cash</td>\n",
       "      <td>7.00</td>\n",
       "    </tr>\n",
       "    <tr>\n",
       "      <th>1</th>\n",
       "      <td>1</td>\n",
       "      <td>2024-05-05 09:23:00</td>\n",
       "      <td>cash</td>\n",
       "      <td>7.00</td>\n",
       "    </tr>\n",
       "    <tr>\n",
       "      <th>2</th>\n",
       "      <td>1</td>\n",
       "      <td>2024-05-05 09:37:00</td>\n",
       "      <td>cash</td>\n",
       "      <td>10.20</td>\n",
       "    </tr>\n",
       "    <tr>\n",
       "      <th>3</th>\n",
       "      <td>1</td>\n",
       "      <td>2024-05-05 09:45:00</td>\n",
       "      <td>card</td>\n",
       "      <td>7.00</td>\n",
       "    </tr>\n",
       "    <tr>\n",
       "      <th>4</th>\n",
       "      <td>1</td>\n",
       "      <td>2024-05-05 10:05:00</td>\n",
       "      <td>cash</td>\n",
       "      <td>9.30</td>\n",
       "    </tr>\n",
       "    <tr>\n",
       "      <th>...</th>\n",
       "      <td>...</td>\n",
       "      <td>...</td>\n",
       "      <td>...</td>\n",
       "      <td>...</td>\n",
       "    </tr>\n",
       "    <tr>\n",
       "      <th>5577</th>\n",
       "      <td>6</td>\n",
       "      <td>2024-05-11 16:20:00</td>\n",
       "      <td>cash</td>\n",
       "      <td>5.99</td>\n",
       "    </tr>\n",
       "    <tr>\n",
       "      <th>5578</th>\n",
       "      <td>6</td>\n",
       "      <td>2024-05-11 16:31:00</td>\n",
       "      <td>cash</td>\n",
       "      <td>5.99</td>\n",
       "    </tr>\n",
       "    <tr>\n",
       "      <th>5579</th>\n",
       "      <td>6</td>\n",
       "      <td>2024-05-11 16:42:00</td>\n",
       "      <td>cash</td>\n",
       "      <td>4.99</td>\n",
       "    </tr>\n",
       "    <tr>\n",
       "      <th>5580</th>\n",
       "      <td>6</td>\n",
       "      <td>2024-05-11 16:50:00</td>\n",
       "      <td>cash</td>\n",
       "      <td>4.99</td>\n",
       "    </tr>\n",
       "    <tr>\n",
       "      <th>5581</th>\n",
       "      <td>6</td>\n",
       "      <td>2024-05-11 16:58:00</td>\n",
       "      <td>cash</td>\n",
       "      <td>5.99</td>\n",
       "    </tr>\n",
       "  </tbody>\n",
       "</table>\n",
       "<p>5582 rows × 4 columns</p>\n",
       "</div>"
      ],
      "text/plain": [
       "      truck_id            timestamp  type  total\n",
       "0            1  2024-05-05 09:07:00  cash   7.00\n",
       "1            1  2024-05-05 09:23:00  cash   7.00\n",
       "2            1  2024-05-05 09:37:00  cash  10.20\n",
       "3            1  2024-05-05 09:45:00  card   7.00\n",
       "4            1  2024-05-05 10:05:00  cash   9.30\n",
       "...        ...                  ...   ...    ...\n",
       "5577         6  2024-05-11 16:20:00  cash   5.99\n",
       "5578         6  2024-05-11 16:31:00  cash   5.99\n",
       "5579         6  2024-05-11 16:42:00  cash   4.99\n",
       "5580         6  2024-05-11 16:50:00  cash   4.99\n",
       "5581         6  2024-05-11 16:58:00  cash   5.99\n",
       "\n",
       "[5582 rows x 4 columns]"
      ]
     },
     "execution_count": 3,
     "metadata": {},
     "output_type": "execute_result"
    }
   ],
   "source": [
    "sales"
   ]
  },
  {
   "cell_type": "markdown",
   "metadata": {},
   "source": [
    "## Questions and Answers"
   ]
  },
  {
   "cell_type": "markdown",
   "metadata": {},
   "source": [
    "### Which truck has the highest number of transactions?"
   ]
  },
  {
   "cell_type": "code",
   "execution_count": 4,
   "metadata": {},
   "outputs": [
    {
     "name": "stdout",
     "output_type": "stream",
     "text": [
      "truck_id\n",
      "1    1088\n",
      "2    1361\n",
      "3    1104\n",
      "4     304\n",
      "5    1024\n",
      "6     701\n",
      "dtype: int64\n"
     ]
    },
    {
     "data": {
      "text/plain": [
       "'The truck with the highest number of transactions is truck 2, with 1361.'"
      ]
     },
     "execution_count": 4,
     "metadata": {},
     "output_type": "execute_result"
    }
   ],
   "source": [
    "sales_grouped = sales.groupby(\"truck_id\").size()\n",
    "\n",
    "highest_truck = sales_grouped.idxmax()\n",
    "num_trans = sales_grouped.max()\n",
    "\n",
    "print(sales_grouped)\n",
    "\n",
    "f\"The truck with the highest number of transactions is truck {highest_truck}, with {num_trans}.\""
   ]
  },
  {
   "cell_type": "markdown",
   "metadata": {},
   "source": [
    "### Which truck has the lowest total transaction value?"
   ]
  },
  {
   "cell_type": "code",
   "execution_count": 5,
   "metadata": {},
   "outputs": [
    {
     "data": {
      "text/plain": [
       "'The truck with the lowest total transaction value is truck 4, with £814.96.'"
      ]
     },
     "execution_count": 5,
     "metadata": {},
     "output_type": "execute_result"
    }
   ],
   "source": [
    "sales_grouped = sales.groupby(\"truck_id\").sum()\n",
    "\n",
    "lowest_total_truck = sales_grouped[\"total\"].idxmin()\n",
    "total_trans_value = sales_grouped[\"total\"].min()\n",
    "\n",
    "f\"The truck with the lowest total transaction value is truck {lowest_total_truck}, with £{total_trans_value}.\""
   ]
  },
  {
   "cell_type": "markdown",
   "metadata": {},
   "source": [
    "### What is the average transaction value?"
   ]
  },
  {
   "cell_type": "code",
   "execution_count": 6,
   "metadata": {},
   "outputs": [
    {
     "data": {
      "text/plain": [
       "'The average transaction value is £6.55'"
      ]
     },
     "execution_count": 6,
     "metadata": {},
     "output_type": "execute_result"
    }
   ],
   "source": [
    "avg_trans = round(sales[\"total\"].mean(), 2)\n",
    "\n",
    "f\"The average transaction value is £{avg_trans}\""
   ]
  },
  {
   "cell_type": "markdown",
   "metadata": {},
   "source": [
    "### What is the average transaction value for each truck?"
   ]
  },
  {
   "cell_type": "code",
   "execution_count": 7,
   "metadata": {},
   "outputs": [
    {
     "name": "stdout",
     "output_type": "stream",
     "text": [
      "   truck_id  average transaction value\n",
      "0         1                       7.73\n",
      "1         2                       8.03\n",
      "2         3                       6.06\n",
      "3         4                       2.68\n",
      "4         5                       5.43\n",
      "5         6                       5.91\n"
     ]
    },
    {
     "data": {
      "text/html": [
       "\n",
       "<style>\n",
       "  #altair-viz-3ffb58e6a06c44e2bdc79188fb35b42c.vega-embed {\n",
       "    width: 100%;\n",
       "    display: flex;\n",
       "  }\n",
       "\n",
       "  #altair-viz-3ffb58e6a06c44e2bdc79188fb35b42c.vega-embed details,\n",
       "  #altair-viz-3ffb58e6a06c44e2bdc79188fb35b42c.vega-embed details summary {\n",
       "    position: relative;\n",
       "  }\n",
       "</style>\n",
       "<div id=\"altair-viz-3ffb58e6a06c44e2bdc79188fb35b42c\"></div>\n",
       "<script type=\"text/javascript\">\n",
       "  var VEGA_DEBUG = (typeof VEGA_DEBUG == \"undefined\") ? {} : VEGA_DEBUG;\n",
       "  (function(spec, embedOpt){\n",
       "    let outputDiv = document.currentScript.previousElementSibling;\n",
       "    if (outputDiv.id !== \"altair-viz-3ffb58e6a06c44e2bdc79188fb35b42c\") {\n",
       "      outputDiv = document.getElementById(\"altair-viz-3ffb58e6a06c44e2bdc79188fb35b42c\");\n",
       "    }\n",
       "    const paths = {\n",
       "      \"vega\": \"https://cdn.jsdelivr.net/npm/vega@5?noext\",\n",
       "      \"vega-lib\": \"https://cdn.jsdelivr.net/npm/vega-lib?noext\",\n",
       "      \"vega-lite\": \"https://cdn.jsdelivr.net/npm/vega-lite@5.17.0?noext\",\n",
       "      \"vega-embed\": \"https://cdn.jsdelivr.net/npm/vega-embed@6?noext\",\n",
       "    };\n",
       "\n",
       "    function maybeLoadScript(lib, version) {\n",
       "      var key = `${lib.replace(\"-\", \"\")}_version`;\n",
       "      return (VEGA_DEBUG[key] == version) ?\n",
       "        Promise.resolve(paths[lib]) :\n",
       "        new Promise(function(resolve, reject) {\n",
       "          var s = document.createElement('script');\n",
       "          document.getElementsByTagName(\"head\")[0].appendChild(s);\n",
       "          s.async = true;\n",
       "          s.onload = () => {\n",
       "            VEGA_DEBUG[key] = version;\n",
       "            return resolve(paths[lib]);\n",
       "          };\n",
       "          s.onerror = () => reject(`Error loading script: ${paths[lib]}`);\n",
       "          s.src = paths[lib];\n",
       "        });\n",
       "    }\n",
       "\n",
       "    function showError(err) {\n",
       "      outputDiv.innerHTML = `<div class=\"error\" style=\"color:red;\">${err}</div>`;\n",
       "      throw err;\n",
       "    }\n",
       "\n",
       "    function displayChart(vegaEmbed) {\n",
       "      vegaEmbed(outputDiv, spec, embedOpt)\n",
       "        .catch(err => showError(`Javascript Error: ${err.message}<br>This usually means there's a typo in your chart specification. See the javascript console for the full traceback.`));\n",
       "    }\n",
       "\n",
       "    if(typeof define === \"function\" && define.amd) {\n",
       "      requirejs.config({paths});\n",
       "      require([\"vega-embed\"], displayChart, err => showError(`Error loading script: ${err.message}`));\n",
       "    } else {\n",
       "      maybeLoadScript(\"vega\", \"5\")\n",
       "        .then(() => maybeLoadScript(\"vega-lite\", \"5.17.0\"))\n",
       "        .then(() => maybeLoadScript(\"vega-embed\", \"6\"))\n",
       "        .catch(showError)\n",
       "        .then(() => displayChart(vegaEmbed));\n",
       "    }\n",
       "  })({\"config\": {\"view\": {\"continuousWidth\": 300, \"continuousHeight\": 300}}, \"layer\": [{\"mark\": {\"type\": \"bar\", \"color\": \"DarkSlateGrey\"}, \"encoding\": {\"x\": {\"field\": \"average transaction value\", \"title\": \"Average Transaction (\\u00a3)\", \"type\": \"quantitative\"}, \"y\": {\"field\": \"truck_id\", \"title\": \"Truck ID\", \"type\": \"nominal\"}}}, {\"mark\": {\"type\": \"text\", \"align\": \"left\", \"baseline\": \"middle\", \"dx\": 3}, \"encoding\": {\"text\": {\"field\": \"average transaction value\", \"type\": \"quantitative\"}, \"x\": {\"field\": \"average transaction value\", \"title\": \"Average Transaction (\\u00a3)\", \"type\": \"quantitative\"}, \"y\": {\"field\": \"truck_id\", \"title\": \"Truck ID\", \"type\": \"nominal\"}}}], \"data\": {\"name\": \"data-2267c6f7894ce0853962e54da06fcd94\"}, \"$schema\": \"https://vega.github.io/schema/vega-lite/v5.17.0.json\", \"datasets\": {\"data-2267c6f7894ce0853962e54da06fcd94\": [{\"truck_id\": 1, \"average transaction value\": 7.73}, {\"truck_id\": 2, \"average transaction value\": 8.03}, {\"truck_id\": 3, \"average transaction value\": 6.06}, {\"truck_id\": 4, \"average transaction value\": 2.68}, {\"truck_id\": 5, \"average transaction value\": 5.43}, {\"truck_id\": 6, \"average transaction value\": 5.91}]}}, {\"mode\": \"vega-lite\"});\n",
       "</script>"
      ],
      "text/plain": [
       "alt.LayerChart(...)"
      ]
     },
     "execution_count": 7,
     "metadata": {},
     "output_type": "execute_result"
    }
   ],
   "source": [
    "sales_grouped = sales.groupby(\"truck_id\")[\"total\"].mean().reset_index(name='average transaction value')\n",
    "sales_grouped = round(sales_grouped, 2)\n",
    "print(sales_grouped)\n",
    "\n",
    "bars = alt.Chart(sales_grouped).mark_bar(color='DarkSlateGrey').encode(\n",
    "    alt.Y(\"truck_id:N\", title='Truck ID'),\n",
    "    alt.X(\"average transaction value\", title='Average Transaction (£)')\n",
    ")\n",
    "\n",
    "text = bars.mark_text(\n",
    "    align='left',\n",
    "    baseline='middle',\n",
    "    dx=3\n",
    ").encode(\n",
    "    text=\"average transaction value\"\n",
    ")\n",
    "\n",
    "bars+text"
   ]
  },
  {
   "cell_type": "markdown",
   "metadata": {},
   "source": [
    "### What proportion of transactions use cash?"
   ]
  },
  {
   "cell_type": "code",
   "execution_count": 8,
   "metadata": {},
   "outputs": [
    {
     "name": "stdout",
     "output_type": "stream",
     "text": [
      "Approximately 53.08% of food truck purchases were via cash\n"
     ]
    },
    {
     "data": {
      "text/html": [
       "\n",
       "<style>\n",
       "  #altair-viz-5024f4e19c3643fdb52b7299bb1f43be.vega-embed {\n",
       "    width: 100%;\n",
       "    display: flex;\n",
       "  }\n",
       "\n",
       "  #altair-viz-5024f4e19c3643fdb52b7299bb1f43be.vega-embed details,\n",
       "  #altair-viz-5024f4e19c3643fdb52b7299bb1f43be.vega-embed details summary {\n",
       "    position: relative;\n",
       "  }\n",
       "</style>\n",
       "<div id=\"altair-viz-5024f4e19c3643fdb52b7299bb1f43be\"></div>\n",
       "<script type=\"text/javascript\">\n",
       "  var VEGA_DEBUG = (typeof VEGA_DEBUG == \"undefined\") ? {} : VEGA_DEBUG;\n",
       "  (function(spec, embedOpt){\n",
       "    let outputDiv = document.currentScript.previousElementSibling;\n",
       "    if (outputDiv.id !== \"altair-viz-5024f4e19c3643fdb52b7299bb1f43be\") {\n",
       "      outputDiv = document.getElementById(\"altair-viz-5024f4e19c3643fdb52b7299bb1f43be\");\n",
       "    }\n",
       "    const paths = {\n",
       "      \"vega\": \"https://cdn.jsdelivr.net/npm/vega@5?noext\",\n",
       "      \"vega-lib\": \"https://cdn.jsdelivr.net/npm/vega-lib?noext\",\n",
       "      \"vega-lite\": \"https://cdn.jsdelivr.net/npm/vega-lite@5.17.0?noext\",\n",
       "      \"vega-embed\": \"https://cdn.jsdelivr.net/npm/vega-embed@6?noext\",\n",
       "    };\n",
       "\n",
       "    function maybeLoadScript(lib, version) {\n",
       "      var key = `${lib.replace(\"-\", \"\")}_version`;\n",
       "      return (VEGA_DEBUG[key] == version) ?\n",
       "        Promise.resolve(paths[lib]) :\n",
       "        new Promise(function(resolve, reject) {\n",
       "          var s = document.createElement('script');\n",
       "          document.getElementsByTagName(\"head\")[0].appendChild(s);\n",
       "          s.async = true;\n",
       "          s.onload = () => {\n",
       "            VEGA_DEBUG[key] = version;\n",
       "            return resolve(paths[lib]);\n",
       "          };\n",
       "          s.onerror = () => reject(`Error loading script: ${paths[lib]}`);\n",
       "          s.src = paths[lib];\n",
       "        });\n",
       "    }\n",
       "\n",
       "    function showError(err) {\n",
       "      outputDiv.innerHTML = `<div class=\"error\" style=\"color:red;\">${err}</div>`;\n",
       "      throw err;\n",
       "    }\n",
       "\n",
       "    function displayChart(vegaEmbed) {\n",
       "      vegaEmbed(outputDiv, spec, embedOpt)\n",
       "        .catch(err => showError(`Javascript Error: ${err.message}<br>This usually means there's a typo in your chart specification. See the javascript console for the full traceback.`));\n",
       "    }\n",
       "\n",
       "    if(typeof define === \"function\" && define.amd) {\n",
       "      requirejs.config({paths});\n",
       "      require([\"vega-embed\"], displayChart, err => showError(`Error loading script: ${err.message}`));\n",
       "    } else {\n",
       "      maybeLoadScript(\"vega\", \"5\")\n",
       "        .then(() => maybeLoadScript(\"vega-lite\", \"5.17.0\"))\n",
       "        .then(() => maybeLoadScript(\"vega-embed\", \"6\"))\n",
       "        .catch(showError)\n",
       "        .then(() => displayChart(vegaEmbed));\n",
       "    }\n",
       "  })({\"config\": {\"view\": {\"continuousWidth\": 300, \"continuousHeight\": 300}}, \"data\": {\"name\": \"data-92a07a420b70a7fdb453394ff2fa6603\"}, \"mark\": {\"type\": \"arc\"}, \"encoding\": {\"color\": {\"field\": \"payment_method\", \"type\": \"nominal\"}, \"theta\": {\"field\": \"value\", \"type\": \"quantitative\"}}, \"$schema\": \"https://vega.github.io/schema/vega-lite/v5.17.0.json\", \"datasets\": {\"data-92a07a420b70a7fdb453394ff2fa6603\": [{\"payment_method\": \"cash\", \"value\": 2963}, {\"payment_method\": \"card\", \"value\": 2619}]}}, {\"mode\": \"vega-lite\"});\n",
       "</script>"
      ],
      "text/plain": [
       "alt.Chart(...)"
      ]
     },
     "execution_count": 8,
     "metadata": {},
     "output_type": "execute_result"
    }
   ],
   "source": [
    "all_trans = len(sales)\n",
    "cash_trans = (sales[\"type\"] == \"cash\").sum()\n",
    "proportion = (cash_trans/all_trans)*100\n",
    "\n",
    "source = pd.DataFrame({\n",
    "    \"payment_method\": ['cash', \"card\"],\n",
    "    \"value\": [2963,2619]\n",
    "})\n",
    "\n",
    "print(f\"Approximately {round(proportion, 2)}% of food truck purchases were via cash\")\n",
    "\n",
    "alt.Chart(source).mark_arc().encode(\n",
    "    alt.Theta(\"value\"),\n",
    "    alt.Color(\"payment_method\")\n",
    ")"
   ]
  }
 ],
 "metadata": {
  "kernelspec": {
   "display_name": ".venv",
   "language": "python",
   "name": "python3"
  },
  "language_info": {
   "codemirror_mode": {
    "name": "ipython",
    "version": 3
   },
   "file_extension": ".py",
   "mimetype": "text/x-python",
   "name": "python",
   "nbconvert_exporter": "python",
   "pygments_lexer": "ipython3",
   "version": "3.12.7"
  }
 },
 "nbformat": 4,
 "nbformat_minor": 2
}
